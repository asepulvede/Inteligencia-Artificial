{
 "cells": [
  {
   "cell_type": "code",
   "execution_count": null,
   "metadata": {},
   "outputs": [],
   "source": [
    "!pip install opencv-python\n",
    "!pip install tensorflow_hub\n",
    "!pip install tensorflow\n",
    "!pip install numpy"
   ]
  },
  {
   "cell_type": "code",
   "execution_count": 2,
   "metadata": {},
   "outputs": [],
   "source": [
    "# Librerias necesarias para el StyleGAN\n",
    "import cv2\n",
    "import tensorflow_hub as hub\n",
    "import tensorflow as tf\n",
    "import numpy as np\n",
    "import os"
   ]
  },
  {
   "cell_type": "code",
   "execution_count": 3,
   "metadata": {},
   "outputs": [],
   "source": [
    "'''\n",
    "    El video se convierte en frames de png\n",
    "'''\n",
    "cam = cv2.VideoCapture(\"original_video.mp4\")\n",
    "currentframe = 0\n",
    "while (True):\n",
    "    ret, frame = cam.read()\n",
    "    if ret:\n",
    "        name = f'frames/frame{currentframe}.jpg'\n",
    "        cv2.imwrite(name, frame)\n",
    "        currentframe += 1\n",
    "    else:\n",
    "        break\n",
    "cam.release()\n",
    "cv2.destroyAllWindows()"
   ]
  },
  {
   "cell_type": "code",
   "execution_count": 5,
   "metadata": {},
   "outputs": [],
   "source": [
    "# pre-trained styleGAN\n",
    "model = hub.load(\n",
    "    'https://tfhub.dev/google/magenta/arbitrary-image-stylization-v1-256/2')\n",
    "\n",
    "\n",
    "def load_image(img_path):\n",
    "    img = tf.io.read_file(img_path)\n",
    "    img = tf.image.decode_image(img, channels=3)\n",
    "    img = tf.image.convert_image_dtype(img, tf.float32)\n",
    "    img = img[tf.newaxis, :]\n",
    "    return img\n",
    "\n",
    "style_image = load_image('style.jpeg')\n",
    "\n",
    "frames_images = os.listdir('frames')\n",
    "for frame in range(842,len(frames_images)):\n",
    "    content_image = load_image(f'frames/frame{frame}.jpg')\n",
    "    stylized_image = model(tf.constant(content_image), tf.constant(style_image))[0]\n",
    "    cv2.imwrite(f'styled_frames/generated_frame{frame}.jpg',\n",
    "                cv2.cvtColor(np.squeeze(stylized_image)*255, cv2.COLOR_BGR2RGB))"
   ]
  },
  {
   "cell_type": "code",
   "execution_count": 6,
   "metadata": {},
   "outputs": [
    {
     "name": "stderr",
     "output_type": "stream",
     "text": [
      "OpenCV: FFMPEG: tag 0x5634504d/'MP4V' is not supported with codec id 12 and format 'mp4 / MP4 (MPEG-4 Part 14)'\n",
      "OpenCV: FFMPEG: fallback to use tag 0x7634706d/'mp4v'\n"
     ]
    }
   ],
   "source": [
    "\"\"\"\n",
    "    A partir de los frames estilizados se genera el video\n",
    "\"\"\"\n",
    "img_array = []\n",
    "for generated_frame in range(len(frames_images)):\n",
    "    img = cv2.imread(f'styled_frames/generated_frame{generated_frame}.jpg')\n",
    "    height, width, layers = img.shape\n",
    "    size = (width, height)\n",
    "    img_array.append(img)\n",
    "\n",
    "out = cv2.VideoWriter('styled_video.mp4', cv2.VideoWriter_fourcc(*'MP4V'), 30, size)\n",
    "\n",
    "for i in range(len(img_array)):\n",
    "    out.write(img_array[i])\n",
    "out.release()"
   ]
  }
 ],
 "metadata": {
  "kernelspec": {
   "display_name": "Python 3.9.13 ('base')",
   "language": "python",
   "name": "python3"
  },
  "language_info": {
   "codemirror_mode": {
    "name": "ipython",
    "version": 3
   },
   "file_extension": ".py",
   "mimetype": "text/x-python",
   "name": "python",
   "nbconvert_exporter": "python",
   "pygments_lexer": "ipython3",
   "version": "3.9.13"
  },
  "orig_nbformat": 4,
  "vscode": {
   "interpreter": {
    "hash": "40d3a090f54c6569ab1632332b64b2c03c39dcf918b08424e98f38b5ae0af88f"
   }
  }
 },
 "nbformat": 4,
 "nbformat_minor": 2
}
